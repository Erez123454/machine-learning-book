{
 "cells": [
  {
   "cell_type": "code",
   "execution_count": 2,
   "metadata": {},
   "outputs": [],
   "source": [
    "import tensorflow as tf\n",
    "from tensorflow import keras\n",
    "from tensorflow.keras import layers\n",
    "from sklearn.datasets import fetch_openml\n",
    "from sklearn.model_selection import train_test_split\n"
   ]
  },
  {
   "cell_type": "code",
   "execution_count": 3,
   "metadata": {},
   "outputs": [],
   "source": [
    "X, y = fetch_openml('mnist_784', version=1, return_X_y=True)\n",
    "X = X.values\n",
    "y = y.astype(int).values"
   ]
  },
  {
   "cell_type": "code",
   "execution_count": 29,
   "metadata": {},
   "outputs": [],
   "source": [
    "X_train, X_test, y_train, y_test1 = train_test_split(X, y,train_size=0.7, test_size=0.3)"
   ]
  },
  {
   "cell_type": "code",
   "execution_count": 30,
   "metadata": {},
   "outputs": [],
   "source": [
    "image_vector_size = 28*28\n",
    "x_train = X_train.reshape(X_train.shape[0], image_vector_size)\n",
    "x_test = X_test.reshape(X_test.shape[0], image_vector_size)"
   ]
  },
  {
   "cell_type": "code",
   "execution_count": 31,
   "metadata": {},
   "outputs": [],
   "source": [
    "num_classes = 10\n",
    "y_train = keras.utils.to_categorical(y_train, num_classes)\n",
    "y_test = keras.utils.to_categorical(y_test1, num_classes)"
   ]
  },
  {
   "cell_type": "code",
   "execution_count": 7,
   "metadata": {},
   "outputs": [],
   "source": [
    "from keras.layers import Dense \n",
    "from keras.models import Sequential"
   ]
  },
  {
   "cell_type": "code",
   "execution_count": 8,
   "metadata": {},
   "outputs": [
    {
     "name": "stderr",
     "output_type": "stream",
     "text": [
      "2022-06-23 16:32:48.130591: I tensorflow/core/platform/cpu_feature_guard.cc:193] This TensorFlow binary is optimized with oneAPI Deep Neural Network Library (oneDNN) to use the following CPU instructions in performance-critical operations:  AVX2 FMA\n",
      "To enable them in other operations, rebuild TensorFlow with the appropriate compiler flags.\n"
     ]
    }
   ],
   "source": [
    "image_size = 784 # 28*28\n",
    "num_classes = 10\n",
    "\n",
    "model = Sequential()\n",
    "model.add(Dense(units=32, activation='sigmoid', input_shape=(image_size,)))\n",
    "model.add(Dense(units=num_classes, activation='softmax'))"
   ]
  },
  {
   "cell_type": "code",
   "execution_count": 34,
   "metadata": {},
   "outputs": [
    {
     "name": "stdout",
     "output_type": "stream",
     "text": [
      "Epoch 1/50\n",
      "268/268 [==============================] - 1s 2ms/step - loss: 0.1989 - accuracy: 0.9422 - auc_2: 0.9964 - val_loss: 0.2089 - val_accuracy: 0.9377 - val_auc_2: 0.9960\n",
      "Epoch 2/50\n",
      "268/268 [==============================] - 0s 2ms/step - loss: 0.2006 - accuracy: 0.9404 - auc_2: 0.9965 - val_loss: 0.2048 - val_accuracy: 0.9411 - val_auc_2: 0.9961\n",
      "Epoch 3/50\n",
      "268/268 [==============================] - 0s 2ms/step - loss: 0.1959 - accuracy: 0.9432 - auc_2: 0.9966 - val_loss: 0.2096 - val_accuracy: 0.9393 - val_auc_2: 0.9956\n",
      "Epoch 4/50\n",
      "268/268 [==============================] - 0s 2ms/step - loss: 0.1967 - accuracy: 0.9423 - auc_2: 0.9966 - val_loss: 0.2089 - val_accuracy: 0.9382 - val_auc_2: 0.9960\n",
      "Epoch 5/50\n",
      "268/268 [==============================] - 0s 2ms/step - loss: 0.1995 - accuracy: 0.9414 - auc_2: 0.9963 - val_loss: 0.2126 - val_accuracy: 0.9368 - val_auc_2: 0.9957\n",
      "Epoch 6/50\n",
      "268/268 [==============================] - 0s 2ms/step - loss: 0.1977 - accuracy: 0.9433 - auc_2: 0.9965 - val_loss: 0.2117 - val_accuracy: 0.9378 - val_auc_2: 0.9955\n",
      "Epoch 7/50\n",
      "268/268 [==============================] - 0s 2ms/step - loss: 0.1924 - accuracy: 0.9442 - auc_2: 0.9967 - val_loss: 0.2175 - val_accuracy: 0.9353 - val_auc_2: 0.9957\n",
      "Epoch 8/50\n",
      "268/268 [==============================] - 0s 2ms/step - loss: 0.1913 - accuracy: 0.9437 - auc_2: 0.9967 - val_loss: 0.2082 - val_accuracy: 0.9382 - val_auc_2: 0.9957\n",
      "Epoch 9/50\n",
      "268/268 [==============================] - 1s 2ms/step - loss: 0.1951 - accuracy: 0.9432 - auc_2: 0.9967 - val_loss: 0.2114 - val_accuracy: 0.9401 - val_auc_2: 0.9959\n",
      "Epoch 10/50\n",
      "268/268 [==============================] - 0s 2ms/step - loss: 0.1961 - accuracy: 0.9435 - auc_2: 0.9967 - val_loss: 0.2105 - val_accuracy: 0.9389 - val_auc_2: 0.9958\n",
      "Epoch 11/50\n",
      "268/268 [==============================] - 0s 2ms/step - loss: 0.1921 - accuracy: 0.9452 - auc_2: 0.9966 - val_loss: 0.2078 - val_accuracy: 0.9402 - val_auc_2: 0.9959\n",
      "Epoch 12/50\n",
      "268/268 [==============================] - 0s 2ms/step - loss: 0.1840 - accuracy: 0.9468 - auc_2: 0.9970 - val_loss: 0.2094 - val_accuracy: 0.9387 - val_auc_2: 0.9956\n",
      "Epoch 13/50\n",
      "268/268 [==============================] - 1s 2ms/step - loss: 0.1802 - accuracy: 0.9476 - auc_2: 0.9971 - val_loss: 0.2030 - val_accuracy: 0.9393 - val_auc_2: 0.9962\n",
      "Epoch 14/50\n",
      "268/268 [==============================] - 0s 2ms/step - loss: 0.1861 - accuracy: 0.9460 - auc_2: 0.9968 - val_loss: 0.2089 - val_accuracy: 0.9384 - val_auc_2: 0.9959\n",
      "Epoch 15/50\n",
      "268/268 [==============================] - 0s 2ms/step - loss: 0.1831 - accuracy: 0.9465 - auc_2: 0.9969 - val_loss: 0.2045 - val_accuracy: 0.9407 - val_auc_2: 0.9959\n",
      "Epoch 16/50\n",
      "268/268 [==============================] - 0s 2ms/step - loss: 0.1876 - accuracy: 0.9450 - auc_2: 0.9967 - val_loss: 0.2119 - val_accuracy: 0.9380 - val_auc_2: 0.9957\n",
      "Epoch 17/50\n",
      "268/268 [==============================] - 1s 2ms/step - loss: 0.1856 - accuracy: 0.9448 - auc_2: 0.9969 - val_loss: 0.2158 - val_accuracy: 0.9359 - val_auc_2: 0.9953\n",
      "Epoch 18/50\n",
      "268/268 [==============================] - 0s 2ms/step - loss: 0.1834 - accuracy: 0.9450 - auc_2: 0.9969 - val_loss: 0.2033 - val_accuracy: 0.9423 - val_auc_2: 0.9957\n",
      "Epoch 19/50\n",
      "268/268 [==============================] - 0s 2ms/step - loss: 0.1824 - accuracy: 0.9462 - auc_2: 0.9970 - val_loss: 0.2073 - val_accuracy: 0.9405 - val_auc_2: 0.9960\n",
      "Epoch 20/50\n",
      "268/268 [==============================] - 0s 2ms/step - loss: 0.1826 - accuracy: 0.9479 - auc_2: 0.9970 - val_loss: 0.2031 - val_accuracy: 0.9391 - val_auc_2: 0.9962\n",
      "Epoch 21/50\n",
      "268/268 [==============================] - 1s 2ms/step - loss: 0.1794 - accuracy: 0.9482 - auc_2: 0.9972 - val_loss: 0.2021 - val_accuracy: 0.9397 - val_auc_2: 0.9963\n",
      "Epoch 22/50\n",
      "268/268 [==============================] - 0s 2ms/step - loss: 0.1801 - accuracy: 0.9477 - auc_2: 0.9970 - val_loss: 0.2078 - val_accuracy: 0.9396 - val_auc_2: 0.9960\n",
      "Epoch 23/50\n",
      "268/268 [==============================] - 0s 2ms/step - loss: 0.1815 - accuracy: 0.9474 - auc_2: 0.9970 - val_loss: 0.2111 - val_accuracy: 0.9381 - val_auc_2: 0.9958\n",
      "Epoch 24/50\n",
      "268/268 [==============================] - 0s 2ms/step - loss: 0.1790 - accuracy: 0.9477 - auc_2: 0.9969 - val_loss: 0.2016 - val_accuracy: 0.9396 - val_auc_2: 0.9962\n",
      "Epoch 25/50\n",
      "268/268 [==============================] - 0s 2ms/step - loss: 0.1723 - accuracy: 0.9508 - auc_2: 0.9973 - val_loss: 0.2020 - val_accuracy: 0.9424 - val_auc_2: 0.9959\n",
      "Epoch 26/50\n",
      "268/268 [==============================] - 0s 2ms/step - loss: 0.1719 - accuracy: 0.9500 - auc_2: 0.9973 - val_loss: 0.1990 - val_accuracy: 0.9418 - val_auc_2: 0.9959\n",
      "Epoch 27/50\n",
      "268/268 [==============================] - 0s 2ms/step - loss: 0.1744 - accuracy: 0.9494 - auc_2: 0.9973 - val_loss: 0.2071 - val_accuracy: 0.9399 - val_auc_2: 0.9958\n",
      "Epoch 28/50\n",
      "268/268 [==============================] - 0s 2ms/step - loss: 0.1721 - accuracy: 0.9498 - auc_2: 0.9973 - val_loss: 0.2051 - val_accuracy: 0.9373 - val_auc_2: 0.9961\n",
      "Epoch 29/50\n",
      "268/268 [==============================] - 0s 2ms/step - loss: 0.1781 - accuracy: 0.9481 - auc_2: 0.9971 - val_loss: 0.2052 - val_accuracy: 0.9402 - val_auc_2: 0.9958\n",
      "Epoch 30/50\n",
      "268/268 [==============================] - 1s 2ms/step - loss: 0.1721 - accuracy: 0.9497 - auc_2: 0.9974 - val_loss: 0.2053 - val_accuracy: 0.9397 - val_auc_2: 0.9959\n",
      "Epoch 31/50\n",
      "268/268 [==============================] - 0s 2ms/step - loss: 0.1651 - accuracy: 0.9524 - auc_2: 0.9975 - val_loss: 0.1981 - val_accuracy: 0.9405 - val_auc_2: 0.9960\n",
      "Epoch 32/50\n",
      "268/268 [==============================] - 0s 2ms/step - loss: 0.1631 - accuracy: 0.9535 - auc_2: 0.9976 - val_loss: 0.2026 - val_accuracy: 0.9400 - val_auc_2: 0.9961\n",
      "Epoch 33/50\n",
      "268/268 [==============================] - 0s 2ms/step - loss: 0.1700 - accuracy: 0.9509 - auc_2: 0.9974 - val_loss: 0.2023 - val_accuracy: 0.9410 - val_auc_2: 0.9959\n",
      "Epoch 34/50\n",
      "268/268 [==============================] - 0s 2ms/step - loss: 0.1684 - accuracy: 0.9507 - auc_2: 0.9973 - val_loss: 0.2008 - val_accuracy: 0.9414 - val_auc_2: 0.9958\n",
      "Epoch 35/50\n",
      "268/268 [==============================] - 0s 2ms/step - loss: 0.1674 - accuracy: 0.9518 - auc_2: 0.9973 - val_loss: 0.1984 - val_accuracy: 0.9410 - val_auc_2: 0.9958\n",
      "Epoch 36/50\n",
      "268/268 [==============================] - 0s 2ms/step - loss: 0.1691 - accuracy: 0.9510 - auc_2: 0.9975 - val_loss: 0.2025 - val_accuracy: 0.9415 - val_auc_2: 0.9958\n",
      "Epoch 37/50\n",
      "268/268 [==============================] - 0s 2ms/step - loss: 0.1677 - accuracy: 0.9507 - auc_2: 0.9975 - val_loss: 0.2024 - val_accuracy: 0.9415 - val_auc_2: 0.9959\n",
      "Epoch 38/50\n",
      "268/268 [==============================] - 0s 2ms/step - loss: 0.1677 - accuracy: 0.9507 - auc_2: 0.9975 - val_loss: 0.2091 - val_accuracy: 0.9397 - val_auc_2: 0.9955\n",
      "Epoch 39/50\n",
      "268/268 [==============================] - 0s 2ms/step - loss: 0.1755 - accuracy: 0.9487 - auc_2: 0.9972 - val_loss: 0.2060 - val_accuracy: 0.9422 - val_auc_2: 0.9956\n",
      "Epoch 40/50\n",
      "268/268 [==============================] - 0s 2ms/step - loss: 0.1679 - accuracy: 0.9499 - auc_2: 0.9974 - val_loss: 0.2033 - val_accuracy: 0.9418 - val_auc_2: 0.9957\n",
      "Epoch 41/50\n",
      "268/268 [==============================] - 0s 2ms/step - loss: 0.1671 - accuracy: 0.9526 - auc_2: 0.9974 - val_loss: 0.2081 - val_accuracy: 0.9397 - val_auc_2: 0.9956\n",
      "Epoch 42/50\n",
      "268/268 [==============================] - 1s 2ms/step - loss: 0.1709 - accuracy: 0.9508 - auc_2: 0.9974 - val_loss: 0.2126 - val_accuracy: 0.9390 - val_auc_2: 0.9953\n",
      "Epoch 43/50\n",
      "268/268 [==============================] - 0s 2ms/step - loss: 0.1724 - accuracy: 0.9499 - auc_2: 0.9972 - val_loss: 0.2142 - val_accuracy: 0.9375 - val_auc_2: 0.9955\n",
      "Epoch 44/50\n",
      "268/268 [==============================] - 0s 2ms/step - loss: 0.1689 - accuracy: 0.9504 - auc_2: 0.9975 - val_loss: 0.2026 - val_accuracy: 0.9418 - val_auc_2: 0.9958\n",
      "Epoch 45/50\n",
      "268/268 [==============================] - 0s 2ms/step - loss: 0.1676 - accuracy: 0.9525 - auc_2: 0.9973 - val_loss: 0.2036 - val_accuracy: 0.9409 - val_auc_2: 0.9953\n",
      "Epoch 46/50\n",
      "268/268 [==============================] - 0s 2ms/step - loss: 0.1624 - accuracy: 0.9529 - auc_2: 0.9976 - val_loss: 0.2066 - val_accuracy: 0.9403 - val_auc_2: 0.9956\n",
      "Epoch 47/50\n",
      "268/268 [==============================] - 0s 2ms/step - loss: 0.1629 - accuracy: 0.9530 - auc_2: 0.9975 - val_loss: 0.2046 - val_accuracy: 0.9406 - val_auc_2: 0.9957\n",
      "Epoch 48/50\n",
      "268/268 [==============================] - 0s 2ms/step - loss: 0.1632 - accuracy: 0.9524 - auc_2: 0.9976 - val_loss: 0.2024 - val_accuracy: 0.9420 - val_auc_2: 0.9956\n",
      "Epoch 49/50\n",
      "268/268 [==============================] - 0s 2ms/step - loss: 0.1690 - accuracy: 0.9511 - auc_2: 0.9974 - val_loss: 0.2098 - val_accuracy: 0.9385 - val_auc_2: 0.9953\n",
      "Epoch 50/50\n",
      "268/268 [==============================] - 0s 2ms/step - loss: 0.1666 - accuracy: 0.9508 - auc_2: 0.9974 - val_loss: 0.2032 - val_accuracy: 0.9395 - val_auc_2: 0.9956\n"
     ]
    }
   ],
   "source": [
    "model.compile(optimizer=\"sgd\", loss='categorical_crossentropy', metrics=['accuracy',tf.keras.metrics.AUC()])\n",
    "history = model.fit(X_train, y_train, batch_size=128, epochs=50, validation_split=0.3)"
   ]
  },
  {
   "cell_type": "markdown",
   "metadata": {},
   "source": [
    "### Macro AUC - Fully Connected Keras Model"
   ]
  },
  {
   "cell_type": "code",
   "execution_count": 48,
   "metadata": {},
   "outputs": [
    {
     "name": "stdout",
     "output_type": "stream",
     "text": [
      "657/657 [==============================] - 0s 580us/step\n",
      "Macro ROC AUC:  0.9969725829125531\n"
     ]
    }
   ],
   "source": [
    "from scipy.special import softmax\n",
    "import sklearn\n",
    "import matplotlib.pyplot as plt\n",
    "\n",
    "probas = model.predict(X_test)\n",
    "pred = softmax(probas, axis=1)\n",
    "macro_auc = sklearn.metrics.roc_auc_score(y_test, pred, average='macro',multi_class='ovr')\n",
    "\n",
    "print(\"Macro ROC AUC: \", macro_auc)"
   ]
  },
  {
   "cell_type": "code",
   "execution_count": 17,
   "metadata": {},
   "outputs": [
    {
     "data": {
      "image/png": "[encoded data removed]",
      "text/plain": [
       "<Figure size 432x288 with 1 Axes>"
      ]
     },
     "metadata": {
      "needs_background": "light"
     },
     "output_type": "display_data"
    }
   ],
   "source": [
    "import matplotlib.pyplot as plt\n",
    "\n",
    "plt.plot(range(len(history.history['accuracy'])), history.history['accuracy'],label='Training')\n",
    "plt.plot(range(len(history.history['val_accuracy'])), history.history['val_accuracy'],label='Validation')\n",
    "plt.ylabel('Accuracy')\n",
    "plt.xlabel('Epochs')\n",
    "plt.legend(loc='lower right')\n",
    "plt.show()"
   ]
  },
  {
   "cell_type": "code",
   "execution_count": 23,
   "metadata": {},
   "outputs": [
    {
     "data": {
      "image/png": "[encoded data removed]",
      "text/plain": [
       "<Figure size 432x288 with 1 Axes>"
      ]
     },
     "metadata": {
      "needs_background": "light"
     },
     "output_type": "display_data"
    }
   ],
   "source": [
    "plt.plot(range(len(history.history['loss'])), history.history['loss'],label='Fully Connected')\n",
    "plt.ylabel('loss')\n",
    "plt.xlabel('Epoch')\n",
    "plt.legend(loc='right')\n",
    "plt.show()"
   ]
  },
  {
   "cell_type": "markdown",
   "metadata": {},
   "source": [
    "Loss comparison calculation of one layer against two layers:"
   ]
  },
  {
   "cell_type": "code",
   "execution_count": 16,
   "metadata": {},
   "outputs": [
    {
     "data": {
      "image/png": "[encoded data removed]",
      "text/plain": [
       "<Figure size 432x288 with 1 Axes>"
      ]
     },
     "metadata": {
      "needs_background": "light"
     },
     "output_type": "display_data"
    }
   ],
   "source": [
    "lossOneLayer = [0.04999473959900052, 0.031196336750108456, 0.02433715256002465, 0.020848855324128314, 0.018773130591877383, 0.01742522713455031, 0.016381823099799877, 0.01555384934042015, 0.014848737405469228, 0.014272626636821445, 0.013823717518526459, 0.013399163506053382, 0.013062214043813233, 0.012717735930175968, 0.01240818167459968, 0.012154053009932548, 0.011921268246999886, 0.011646702304500791, 0.011489692895796844, 0.011241748488421905, 0.011050328767137232, 0.010862300612547435, 0.010677482491374193, 0.010536968428190779, 0.01045639660416121, 0.010248614521647504, 0.010112693426449153, 0.009943189632677454, 0.00983553018909133, 0.009690906879458712, 0.0095850018252168, 0.009505767090772724, 0.009454403155648357, 0.009258080397348037, 0.009166600626090256, 0.00904865128515161, 0.008962175923725633, 0.008852527308328364, 0.008744180191992844, 0.008687314717465892, 0.00859005424973732, 0.008520305073257088, 0.008422259715920713, 0.008326385492374704, 0.008251556028851427, 0.008191819349915438, 0.008120509406821746, 0.008043877708468771, 0.008002748442702984, 0.007930044499670256]\n",
    "lossTwoLayers = [0.08802461417751159, 0.07487629089807515, 0.05462075474446146, 0.03956562212848462, 0.02935561602575201, 0.023123425271423758, 0.019294406151004667, 0.0171653250018384, 0.015544033482374518, 0.014359437566205531, 0.013581860723973532, 0.012809105426399387, 0.012151807432833088, 0.011641047008510862, 0.01111248032436278, 0.010722884650798667, 0.010350569426815125, 0.010014383797848666, 0.009785172563306157, 0.009633280841725265, 0.00919012797101148, 0.00883500753917953, 0.008654012269735757, 0.008466847268629842, 0.008394973242567655, 0.008042632516486946, 0.007925384957070288, 0.0076942205117060914, 0.00751648103948058, 0.007324575150213594, 0.007196096648428556, 0.007252871628645599, 0.007008973702603235, 0.0068641971468482235, 0.006610163416178001, 0.0064842434554990384, 0.006389428088243232, 0.00628597289714853, 0.006123290167167435, 0.0060552698687628605, 0.005938585112471254, 0.005759796722348616, 0.005737676750240289, 0.0056893809951225945, 0.005578684023933235, 0.005402319025787565, 0.005273180610555683, 0.005271657239252066, 0.005279394526116291, 0.005304889733441579]\n",
    "\n",
    "plt.plot(range(len(lossOneLayer)), lossOneLayer,label='one layer')\n",
    "plt.plot(range(len(lossTwoLayers)), lossTwoLayers,label='two layers')\n",
    "plt.ylabel('Loss')\n",
    "plt.xlabel('Epochs')\n",
    "plt.legend(loc='right')\n",
    "plt.show()"
   ]
  }
 ],
 "metadata": {
  "anaconda-cloud": {},
  "interpreter": {
   "hash": "31f2aee4e71d21fbe5cf8b01ff0e069b9275f58929596ceb00d14d90e3e16cd6"
  },
  "kernelspec": {
   "display_name": "Python 3.8.9 64-bit",
   "language": "python",
   "name": "python3"
  },
  "language_info": {
   "codemirror_mode": {
    "name": "ipython",
    "version": 3
   },
   "file_extension": ".py",
   "mimetype": "text/x-python",
   "name": "python",
   "nbconvert_exporter": "python",
   "pygments_lexer": "ipython3",
   "version": "3.8.9"
  }
 },
 "nbformat": 4,
 "nbformat_minor": 4
}
